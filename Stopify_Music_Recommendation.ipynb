{
 "cells": [
  {
   "cell_type": "markdown",
   "metadata": {},
   "source": [
    "# Music Recommendation for Stopify\n",
    "This notebook is for completing take-home assignment from D*******."
   ]
  },
  {
   "cell_type": "markdown",
   "metadata": {},
   "source": [
    "#### Load data file"
   ]
  },
  {
   "cell_type": "code",
   "execution_count": 12,
   "metadata": {
    "collapsed": true
   },
   "outputs": [
    {
     "name": "stdout",
     "output_type": "stream",
     "text": [
      "(4000, 6)\n",
      "                             song_played          time_played  user_id  \\\n",
      "0                               Hey Jude  2015-06-11 21:51:35      122   \n",
      "1                     We Can Work It Out  2015-06-06 16:49:19        3   \n",
      "2                   Back In the U.S.S.R.  2015-06-14 02:11:29       35   \n",
      "3                        P.s. I Love You  2015-06-08 12:26:10      126   \n",
      "4  Sgt. Pepper's Lonely Hearts Club Band  2015-06-28 14:57:00        6   \n",
      "5               Sgt. Pepper Inner Groove  2015-06-28 08:25:26      147   \n",
      "6                          Hello Goodbye  2015-06-21 21:18:53      155   \n",
      "7                       Cry For A Shadow  2015-06-05 08:29:21      171   \n",
      "8                             Revolution  2015-06-14 04:55:17      174   \n",
      "9                              Let It Be  2015-06-15 15:49:59      170   \n",
      "\n",
      "  user_sign_up_date    user_state  \n",
      "0        2015-05-16     Louisiana  \n",
      "1        2015-05-01          Ohio  \n",
      "2        2015-05-04    New Jersey  \n",
      "3        2015-05-16      Illinois  \n",
      "4        2015-05-01    New Jersey  \n",
      "5        2015-05-18         Texas  \n",
      "6        2015-05-19         Texas  \n",
      "7        2015-05-19      Illinois  \n",
      "8        2015-05-19  Rhode Island  \n",
      "9        2015-05-19        Oregon  \n"
     ]
    }
   ],
   "source": [
    "import json\n",
    "import pandas as pd\n",
    "\n",
    "data_frame = pd.read_json('data.json')\n",
    "\n",
    "print(data_frame.shape)\n",
    "print(data_frame.iloc[:10,1:])"
   ]
  },
  {
   "cell_type": "markdown",
   "metadata": {},
   "source": [
    "## Questions:\n",
    "### 1.\tWhat are the top 3 and the bottom 3 states in terms of number of users?"
   ]
  },
  {
   "cell_type": "markdown",
   "metadata": {},
   "source": [
    "#### Top 3 states"
   ]
  },
  {
   "cell_type": "code",
   "execution_count": 2,
   "metadata": {
    "collapsed": false
   },
   "outputs": [
    {
     "name": "stdout",
     "output_type": "stream",
     "text": [
      "user_state\n",
      "New York      23\n",
      "California    21\n",
      "Texas         15\n",
      "Name: user_id, dtype: int64\n"
     ]
    }
   ],
   "source": [
    "df_top_states = data_frame.groupby('user_state')['user_id'].nunique().nlargest(3)\n",
    "print(df_top_states)"
   ]
  },
  {
   "cell_type": "markdown",
   "metadata": {},
   "source": [
    "#### Bottom 3 states"
   ]
  },
  {
   "cell_type": "code",
   "execution_count": 3,
   "metadata": {
    "collapsed": false
   },
   "outputs": [
    {
     "name": "stdout",
     "output_type": "stream",
     "text": [
      "user_state\n",
      "Arizona        1\n",
      "Connecticut    1\n",
      "Idaho          1\n",
      "Name: user_id, dtype: int64\n"
     ]
    }
   ],
   "source": [
    "df_bottom_states = data_frame.groupby('user_state')['user_id'].nunique().nsmallest(3)\n",
    "print(df_bottom_states)"
   ]
  },
  {
   "cell_type": "markdown",
   "metadata": {},
   "source": [
    "### 2.\tWhat are the top 3 and the bottom 3 states in terms of user engagement? You can choose how to mathematically deﬁne user engagement. What the manager cares about here is in which states users are using the product a lot/very little."
   ]
  },
  {
   "cell_type": "markdown",
   "metadata": {},
   "source": [
    "#### Top 3 states"
   ]
  },
  {
   "cell_type": "code",
   "execution_count": 4,
   "metadata": {
    "collapsed": false
   },
   "outputs": [
    {
     "name": "stdout",
     "output_type": "stream",
     "text": [
      "user_state\n",
      "New York      469\n",
      "California    425\n",
      "Texas         230\n",
      "Name: id, dtype: int64\n"
     ]
    }
   ],
   "source": [
    "df_top_states = data_frame.groupby('user_state')['id'].nunique().nlargest(3)\n",
    "print(df_top_states)"
   ]
  },
  {
   "cell_type": "markdown",
   "metadata": {},
   "source": [
    "#### Bottom 3 states"
   ]
  },
  {
   "cell_type": "code",
   "execution_count": 5,
   "metadata": {
    "collapsed": false
   },
   "outputs": [
    {
     "name": "stdout",
     "output_type": "stream",
     "text": [
      "user_state\n",
      "Kansas          8\n",
      "Connecticut    16\n",
      "New Mexico     17\n",
      "Name: id, dtype: int64\n"
     ]
    }
   ],
   "source": [
    "df_bottom_states = data_frame.groupby('user_state')['id'].nunique().nsmallest(3)\n",
    "print(df_bottom_states)"
   ]
  },
  {
   "cell_type": "markdown",
   "metadata": {},
   "source": [
    "### 3.\tThe manager wants to send a gift to the ﬁrst user who signed up for each state. That is, the ﬁrst user who signed-up from New York, from Oregon, etc. Can you give him a list of those users?"
   ]
  },
  {
   "cell_type": "code",
   "execution_count": 6,
   "metadata": {
    "collapsed": true
   },
   "outputs": [
    {
     "name": "stdout",
     "output_type": "stream",
     "text": [
      "        user_state user_sign_up_date\n",
      "0          Alabama        2015-05-01\n",
      "1           Alaska        2015-05-12\n",
      "2          Arizona        2015-05-12\n",
      "3         Arkansas        2015-05-08\n",
      "4       California        2015-05-04\n",
      "5         Colorado        2015-05-19\n",
      "6      Connecticut        2015-05-16\n",
      "7          Florida        2015-05-04\n",
      "8          Georgia        2015-05-02\n",
      "9            Idaho        2015-05-19\n",
      "10        Illinois        2015-05-05\n",
      "11         Indiana        2015-05-12\n",
      "12            Iowa        2015-05-19\n",
      "13          Kansas        2015-05-19\n",
      "14        Kentucky        2015-05-04\n",
      "15       Louisiana        2015-05-06\n",
      "16        Maryland        2015-05-02\n",
      "17   Massachusetts        2015-05-02\n",
      "18        Michigan        2015-05-02\n",
      "19       Minnesota        2015-05-02\n",
      "20     Mississippi        2015-05-02\n",
      "21        Missouri        2015-05-09\n",
      "22        Nebraska        2015-05-16\n",
      "23      New Jersey        2015-05-01\n",
      "24      New Mexico        2015-05-01\n",
      "25        New York        2015-05-02\n",
      "26  North Carolina        2015-05-01\n",
      "27    North Dakota        2015-05-17\n",
      "28            Ohio        2015-05-01\n",
      "29        Oklahoma        2015-05-16\n",
      "30          Oregon        2015-05-01\n",
      "31    Pennsylvania        2015-05-02\n",
      "32    Rhode Island        2015-05-19\n",
      "33  South Carolina        2015-05-08\n",
      "34       Tennessee        2015-05-08\n",
      "35           Texas        2015-05-01\n",
      "36            Utah        2015-05-03\n",
      "37        Virginia        2015-05-17\n",
      "38      Washington        2015-05-16\n",
      "39   West Virginia        2015-05-07\n",
      "40       Wisconsin        2015-05-04\n"
     ]
    }
   ],
   "source": [
    "df_earliest_sign_up_date = data_frame.groupby('user_state')['user_sign_up_date'].min().reset_index(name='user_sign_up_date')\n",
    "print(df_earliest_sign_up_date)"
   ]
  },
  {
   "cell_type": "code",
   "execution_count": 7,
   "metadata": {
    "collapsed": true
   },
   "outputs": [
    {
     "name": "stdout",
     "output_type": "stream",
     "text": [
      "         user_state user_sign_up_date  user_id\n",
      "0           Alabama        2015-05-01        5\n",
      "21           Alaska        2015-05-12      106\n",
      "47          Arizona        2015-05-12      105\n",
      "69         Arkansas        2015-05-08       78\n",
      "78       California        2015-05-04       39\n",
      "79       California        2015-05-04       44\n",
      "119        Colorado        2015-05-19      173\n",
      "122        Colorado        2015-05-19      166\n",
      "154     Connecticut        2015-05-16      127\n",
      "170         Florida        2015-05-04       41\n",
      "172         Florida        2015-05-04       43\n",
      "238         Georgia        2015-05-02       20\n",
      "242         Georgia        2015-05-02       16\n",
      "319           Idaho        2015-05-19      165\n",
      "345        Illinois        2015-05-05       45\n",
      "358         Indiana        2015-05-12      102\n",
      "366            Iowa        2015-05-19      178\n",
      "389          Kansas        2015-05-19      177\n",
      "397        Kentucky        2015-05-04       34\n",
      "425       Louisiana        2015-05-06       50\n",
      "427        Maryland        2015-05-02       18\n",
      "466   Massachusetts        2015-05-02       15\n",
      "477        Michigan        2015-05-02       13\n",
      "496       Minnesota        2015-05-02        8\n",
      "498       Minnesota        2015-05-02       21\n",
      "499     Mississippi        2015-05-02       23\n",
      "501     Mississippi        2015-05-02       26\n",
      "539        Missouri        2015-05-09       85\n",
      "571        Nebraska        2015-05-16      134\n",
      "607      New Jersey        2015-05-01        6\n",
      "633      New Mexico        2015-05-01        4\n",
      "650        New York        2015-05-02       19\n",
      "651        New York        2015-05-02       22\n",
      "655        New York        2015-05-02       27\n",
      "657        New York        2015-05-02       12\n",
      "658        New York        2015-05-02       10\n",
      "729  North Carolina        2015-05-01        2\n",
      "747    North Dakota        2015-05-17      135\n",
      "773            Ohio        2015-05-01        3\n",
      "791        Oklahoma        2015-05-16      119\n",
      "814          Oregon        2015-05-01        1\n",
      "824    Pennsylvania        2015-05-02       11\n",
      "837    Rhode Island        2015-05-19      174\n",
      "864  South Carolina        2015-05-08       64\n",
      "884       Tennessee        2015-05-08       70\n",
      "902           Texas        2015-05-01        7\n",
      "914            Utah        2015-05-03       29\n",
      "947        Virginia        2015-05-17      142\n",
      "949      Washington        2015-05-16      125\n",
      "967   West Virginia        2015-05-07       60\n",
      "983       Wisconsin        2015-05-04       32\n"
     ]
    }
   ],
   "source": [
    "df_first_users = pd.merge(df_earliest_sign_up_date, data_frame[['user_state', 'user_sign_up_date', 'user_id']], how='left'\n",
    "                          , left_on=['user_state', 'user_sign_up_date'], right_on=['user_state', 'user_sign_up_date'])\n",
    "df_first_users = df_first_users.drop_duplicates()\n",
    "print(df_first_users)"
   ]
  },
  {
   "cell_type": "markdown",
   "metadata": {},
   "source": [
    "### 4.\tBuild a function that takes as an input any of the songs in the data and returns the most likely song to be listened next. That is, if, for instance, a user is currently listening to the song \"Revolution\", which song has the highest probability of being played right after it by the same user? This is going to be the first version of a song recommendation model."
   ]
  },
  {
   "cell_type": "markdown",
   "metadata": {},
   "source": [
    "#### Split the dataset into 80% of training data and 20% of testing data"
   ]
  },
  {
   "cell_type": "code",
   "execution_count": 20,
   "metadata": {
    "collapsed": false
   },
   "outputs": [],
   "source": [
    "from sklearn.cross_validation import train_test_split\n",
    "\n",
    "# please use the below line instead if you are using scikit-learn version of 0.18 onwards\n",
    "#from sklearn.model_selection import train_test_split\n",
    "\n",
    "train_data, test_data = train_test_split(data_frame, test_size = 0.20, random_state=0)"
   ]
  },
  {
   "cell_type": "markdown",
   "metadata": {},
   "source": [
    "#### Add a new column called \"listen_count\" to be used as the ranking for a song by each user\n",
    "#### (A song played more often by a user is considered to be preferred by the same user.)"
   ]
  },
  {
   "cell_type": "code",
   "execution_count": 21,
   "metadata": {
    "collapsed": true
   },
   "outputs": [
    {
     "name": "stdout",
     "output_type": "stream",
     "text": [
      "                                        id  \\\n",
      "2230  dbc3cffe-d583-4ac7-bb49-b533a792d102   \n",
      "668   c604bec2-8a23-4edf-8794-932a2dbc17b3   \n",
      "3616  629f5edc-811c-46f0-9454-7679a1c9b83a   \n",
      "2363  1ad726be-1d82-4945-a0ad-a151ad0912cd   \n",
      "142   e6c4a0a6-c087-4877-819d-d3f0d54322f6   \n",
      "538   6fbe6b2b-4963-4535-bb88-e802da08c049   \n",
      "1791  67225347-3ffe-4318-a4f2-0990acbd03c5   \n",
      "410   2143a288-246b-4bfa-96ea-a179798c37ad   \n",
      "1150  60944f02-ed6e-4879-a33f-337e38f04e6b   \n",
      "1032  a76356e5-98d3-42bc-8768-bd2f50f640f8   \n",
      "2178  1e10e491-cfc0-4120-b3b6-f2895020bca1   \n",
      "224   070dabd6-d202-4fe3-acd3-039ed894ccfe   \n",
      "2800  d963f438-0a33-4805-b5c1-894886b5f0b1   \n",
      "2281  0fca4727-589e-4bd3-bc97-b3b0ded6c71b   \n",
      "3310  01a213cc-254f-4a46-94c4-7406bd8ac643   \n",
      "1746  1a9ebe7d-8218-4d68-aebb-f015cd4d6411   \n",
      "2858  611ad39c-b1d9-4d2b-969a-ea3c9884d8d2   \n",
      "2406  f6622f72-96ee-4ce9-8547-617d367497f3   \n",
      "3659  a0e99386-141d-4df9-b917-a87ac6b3125e   \n",
      "3027  612ab8ce-3f99-4170-b55d-f5d866fc995a   \n",
      "3463  eb0f727c-3c1c-4b7b-b7bb-d41fa9fc64ad   \n",
      "1371  6fd29f9c-1042-427d-929d-3cc49310c0b2   \n",
      "965   f6981597-46de-4b8a-a704-de4fd36499ad   \n",
      "1015  a56f5035-21ee-4c6c-9ed9-31e55ae0238e   \n",
      "910   e1b4195e-a63e-498a-9bde-ff9b82bc6824   \n",
      "543   5290a6ec-84b1-4c1f-b5b3-6c72a663dd69   \n",
      "3194  c5b5e3ab-e7e4-4a13-bdd1-092b36de34a0   \n",
      "2288  a3b433ab-6577-4897-9d1f-76e4ca57cc32   \n",
      "3676  b5f5b919-efe4-4b75-b632-2f5fa3e76538   \n",
      "3770  dfed1a63-466b-480c-8bdb-0c7b69b224e5   \n",
      "...                                    ...   \n",
      "648   0edc6b8d-01b3-4ec3-ad97-41b776a1c361   \n",
      "2578  5be3e100-d207-4892-8dea-ccb13fb20f60   \n",
      "1070  7226652e-770a-41b4-9c9c-bfc8f449e64b   \n",
      "3708  eafa0193-c5c2-478d-9c95-92dd068a129b   \n",
      "1855  6fbf7ff0-ac61-40da-ab07-7d98c53aedc5   \n",
      "3359  d324243a-b4ac-42f4-b6e5-a60b627b0c54   \n",
      "159   cb2ec6eb-17b6-4778-b1d6-79e74cf438df   \n",
      "3861  ab42d0f8-26dc-4149-8a7f-165bb21b77f2   \n",
      "1696  87017712-4466-44cc-84f5-c8e5f4470f88   \n",
      "1313  15a6449e-394e-4a70-936b-3fcc68ca8a64   \n",
      "2966  9af8277b-db34-4841-922d-aa5a4c90e10a   \n",
      "3538  af720623-fc3b-4802-a441-0e512c578f63   \n",
      "553   eccc0d1b-a85a-4031-a26d-558c113d12f5   \n",
      "2894  953be510-27c8-4eaf-94df-3b7afb38983e   \n",
      "2879  c4842da2-8cdf-4154-b9e8-e12dfd8ac5ab   \n",
      "1982  50a7e69e-a41f-4d9c-ac07-56ff927fdae9   \n",
      "3198  235cd29c-27f0-4976-87ec-ff103c0144fa   \n",
      "559   ae14e258-aff1-4d08-aa0f-a3cf0f4a0bd7   \n",
      "1310  ff985749-7050-48ed-81d6-2ade53f75906   \n",
      "1303  6e341123-9359-4ede-97e3-6a154b86f02a   \n",
      "2728  5e96dfde-faed-48ed-930b-07d5c918f087   \n",
      "316   53e5ffc9-740e-48b9-b163-0c8163df74b9   \n",
      "2017  861fa7f4-40fd-4db1-bf5b-e0c96619861a   \n",
      "3138  055c846a-c865-4859-b956-1e142bfc684c   \n",
      "3390  c78ffeb0-dfe0-47cb-826e-a4108a3a9369   \n",
      "1118  20fa2b89-7d34-4133-8467-71a13ee07114   \n",
      "3572  98cb0b53-ef71-455f-bc2f-0c7cb3975931   \n",
      "2482  65d5dbdd-4737-41e2-913a-34d0fe22ed60   \n",
      "643   38fb675c-4385-4581-ac1e-ebe7a360ed58   \n",
      "299   d6dad6cb-7aa7-488a-86c7-97fe4d388ad0   \n",
      "\n",
      "                                          song_played          time_played  \\\n",
      "2230                                    Come Together  2015-06-23 15:40:13   \n",
      "668                                     Eleanor Rigby  2015-06-12 21:39:13   \n",
      "3616                                       OH DARLING  2015-06-18 09:21:01   \n",
      "2363                                    Eleanor Rigby  2015-06-15 14:58:16   \n",
      "142                                     Come Together  2015-06-15 10:01:40   \n",
      "538   Sgt. Pepper's Lonely Hearts Club Band (Reprise)  2015-06-24 13:40:48   \n",
      "1791                                  Golden Slumbers  2015-06-12 12:57:03   \n",
      "410                                        Revolution  2015-06-15 15:13:22   \n",
      "1150                                A Day In The Life  2015-06-10 22:23:16   \n",
      "1032                                    Come Together  2015-06-22 18:49:22   \n",
      "2178                                    Eleanor Rigby  2015-06-01 17:28:21   \n",
      "224                                 Can't Buy Me Love  2015-06-07 23:16:13   \n",
      "2800                                    Come Together  2015-06-01 22:37:24   \n",
      "2281                                        Let It Be  2015-06-01 06:14:45   \n",
      "3310                                       Revolution  2015-06-25 06:37:26   \n",
      "1746                     While My Guitar Gently Weeps  2015-06-11 06:27:01   \n",
      "2858                             Back In the U.S.S.R.  2015-06-21 13:06:39   \n",
      "2406                               Here Comes The Sun  2015-06-12 09:45:54   \n",
      "3659                                       Revolution  2015-06-04 16:26:31   \n",
      "3027                        The Long And Winding Road  2015-06-06 19:23:58   \n",
      "3463                                A Day In The Life  2015-06-28 22:54:54   \n",
      "1371                                         Hey Jude  2015-06-05 14:39:30   \n",
      "965                                 Can't Buy Me Love  2015-06-09 13:38:15   \n",
      "1015                                       Revolution  2015-06-08 14:20:09   \n",
      "910                               I'll Follow The Sun  2015-06-27 18:21:40   \n",
      "543                                         Something  2015-06-03 20:21:59   \n",
      "3194                                         Birthday  2015-06-12 19:07:27   \n",
      "2288                                        Let It Be  2015-06-13 14:49:41   \n",
      "3676                            I've Just Seen A Face  2015-06-01 16:14:13   \n",
      "3770                     You Never Give Me Your Money  2015-06-17 18:02:56   \n",
      "...                                               ...                  ...   \n",
      "648                                    Wild Honey Pie  2015-06-04 08:33:53   \n",
      "2578                     While My Guitar Gently Weeps  2015-06-17 14:38:59   \n",
      "1070                               Here Comes The Sun  2015-06-25 14:51:37   \n",
      "3708                    Lucy In The Sky With Diamonds  2015-06-28 18:07:10   \n",
      "1855                                     Drive My Car  2015-06-22 14:19:29   \n",
      "3359                                Can't Buy Me Love  2015-06-19 15:20:26   \n",
      "159                              Back In the U.S.S.R.  2015-06-18 18:28:50   \n",
      "3861                                         Hey Jude  2015-06-11 23:28:44   \n",
      "1696                     While My Guitar Gently Weeps  2015-06-21 02:27:38   \n",
      "1313                                         Birthday  2015-06-11 23:32:38   \n",
      "2966                                         Get Back  2015-06-14 14:47:55   \n",
      "3538                                         The Word  2015-06-15 14:25:16   \n",
      "553                                        Revolution  2015-06-02 21:58:52   \n",
      "2894                                         Get Back  2015-06-07 16:41:44   \n",
      "2879                                        Blackbird  2015-06-25 14:51:11   \n",
      "1982                                            Help!  2015-06-15 16:53:10   \n",
      "3198                                        Let It Be  2015-06-06 14:11:22   \n",
      "559                                         Let It Be  2015-06-28 11:07:01   \n",
      "1310                               Ob-la-di, Ob-la-da  2015-06-14 12:12:26   \n",
      "1303                                         Hey Jude  2015-06-14 12:17:33   \n",
      "2728                                        Let It Be  2015-06-26 20:16:00   \n",
      "316                                     Come Together  2015-06-04 13:22:10   \n",
      "2017                                    Eleanor Rigby  2015-06-25 18:54:13   \n",
      "3138                                         Birthday  2015-06-07 04:37:14   \n",
      "3390                                         Hey Jude  2015-06-15 20:10:07   \n",
      "1118                                         Sun King  2015-06-23 15:32:23   \n",
      "3572               With a Little Help From My Friends  2015-06-25 05:35:20   \n",
      "2482                    Lucy In The Sky With Diamonds  2015-06-04 20:19:36   \n",
      "643             Sgt. Pepper's Lonely Hearts Club Band  2015-06-22 09:51:23   \n",
      "299                                     Come Together  2015-06-14 14:18:09   \n",
      "\n",
      "      user_id user_sign_up_date      user_state  \n",
      "2230       22        2015-05-02        New York  \n",
      "668       104        2015-05-12           Texas  \n",
      "3616      121        2015-05-16      California  \n",
      "2363       75        2015-05-08           Texas  \n",
      "142       112        2015-05-14      California  \n",
      "538        88        2015-05-10      California  \n",
      "1791       88        2015-05-10      California  \n",
      "410        20        2015-05-02         Georgia  \n",
      "1150       38        2015-05-04  North Carolina  \n",
      "1032      123        2015-05-16           Texas  \n",
      "2178       56        2015-05-07   Massachusetts  \n",
      "224       143        2015-05-17      New Jersey  \n",
      "2800        6        2015-05-01      New Jersey  \n",
      "2281      163        2015-05-19        New York  \n",
      "3310       47        2015-05-06        New York  \n",
      "1746       42        2015-05-04        New York  \n",
      "2858        6        2015-05-01      New Jersey  \n",
      "2406      150        2015-05-18          Oregon  \n",
      "3659      140        2015-05-17        New York  \n",
      "3027      127        2015-05-16     Connecticut  \n",
      "3463      150        2015-05-18          Oregon  \n",
      "1371       98        2015-05-12     Mississippi  \n",
      "965       127        2015-05-16     Connecticut  \n",
      "1015       81        2015-05-09        Maryland  \n",
      "910       110        2015-05-14      California  \n",
      "543        58        2015-05-07        Maryland  \n",
      "3194      126        2015-05-16        Illinois  \n",
      "2288       77        2015-05-08        New York  \n",
      "3676      185        2015-05-20        New York  \n",
      "3770      159        2015-05-19      California  \n",
      "...       ...               ...             ...  \n",
      "648        99        2015-05-12        Illinois  \n",
      "2578       17        2015-05-02           Texas  \n",
      "1070      147        2015-05-18           Texas  \n",
      "3708      126        2015-05-16        Illinois  \n",
      "1855       85        2015-05-09        Missouri  \n",
      "3359       57        2015-05-07    Pennsylvania  \n",
      "159        42        2015-05-04        New York  \n",
      "3861       67        2015-05-08        New York  \n",
      "1696      193        2015-05-20       Louisiana  \n",
      "1313       89        2015-05-10         Alabama  \n",
      "2966       31        2015-05-04        Michigan  \n",
      "3538      176        2015-05-19        Missouri  \n",
      "553       184        2015-05-20       Wisconsin  \n",
      "2894       54        2015-05-07            Ohio  \n",
      "2879      158        2015-05-19  North Carolina  \n",
      "1982        5        2015-05-01         Alabama  \n",
      "3198      188        2015-05-20        New York  \n",
      "559        89        2015-05-10         Alabama  \n",
      "1310       99        2015-05-12        Illinois  \n",
      "1303       25        2015-05-02            Ohio  \n",
      "2728      185        2015-05-20        New York  \n",
      "316        70        2015-05-08       Tennessee  \n",
      "2017      155        2015-05-19           Texas  \n",
      "3138       94        2015-05-11  South Carolina  \n",
      "3390       72        2015-05-08      California  \n",
      "1118       81        2015-05-09        Maryland  \n",
      "3572       13        2015-05-02        Michigan  \n",
      "2482       49        2015-05-06            Ohio  \n",
      "643       180        2015-05-20       Louisiana  \n",
      "299        47        2015-05-06        New York  \n",
      "\n",
      "[800 rows x 6 columns]\n",
      "                                        id  \\\n",
      "2230  dbc3cffe-d583-4ac7-bb49-b533a792d102   \n",
      "668   c604bec2-8a23-4edf-8794-932a2dbc17b3   \n",
      "3616  629f5edc-811c-46f0-9454-7679a1c9b83a   \n",
      "2363  1ad726be-1d82-4945-a0ad-a151ad0912cd   \n",
      "142   e6c4a0a6-c087-4877-819d-d3f0d54322f6   \n",
      "538   6fbe6b2b-4963-4535-bb88-e802da08c049   \n",
      "1791  67225347-3ffe-4318-a4f2-0990acbd03c5   \n",
      "410   2143a288-246b-4bfa-96ea-a179798c37ad   \n",
      "1150  60944f02-ed6e-4879-a33f-337e38f04e6b   \n",
      "1032  a76356e5-98d3-42bc-8768-bd2f50f640f8   \n",
      "2178  1e10e491-cfc0-4120-b3b6-f2895020bca1   \n",
      "224   070dabd6-d202-4fe3-acd3-039ed894ccfe   \n",
      "2800  d963f438-0a33-4805-b5c1-894886b5f0b1   \n",
      "2281  0fca4727-589e-4bd3-bc97-b3b0ded6c71b   \n",
      "3310  01a213cc-254f-4a46-94c4-7406bd8ac643   \n",
      "1746  1a9ebe7d-8218-4d68-aebb-f015cd4d6411   \n",
      "2858  611ad39c-b1d9-4d2b-969a-ea3c9884d8d2   \n",
      "2406  f6622f72-96ee-4ce9-8547-617d367497f3   \n",
      "3659  a0e99386-141d-4df9-b917-a87ac6b3125e   \n",
      "3027  612ab8ce-3f99-4170-b55d-f5d866fc995a   \n",
      "3463  eb0f727c-3c1c-4b7b-b7bb-d41fa9fc64ad   \n",
      "1371  6fd29f9c-1042-427d-929d-3cc49310c0b2   \n",
      "965   f6981597-46de-4b8a-a704-de4fd36499ad   \n",
      "1015  a56f5035-21ee-4c6c-9ed9-31e55ae0238e   \n",
      "910   e1b4195e-a63e-498a-9bde-ff9b82bc6824   \n",
      "543   5290a6ec-84b1-4c1f-b5b3-6c72a663dd69   \n",
      "3194  c5b5e3ab-e7e4-4a13-bdd1-092b36de34a0   \n",
      "2288  a3b433ab-6577-4897-9d1f-76e4ca57cc32   \n",
      "3676  b5f5b919-efe4-4b75-b632-2f5fa3e76538   \n",
      "3770  dfed1a63-466b-480c-8bdb-0c7b69b224e5   \n",
      "...                                    ...   \n",
      "648   0edc6b8d-01b3-4ec3-ad97-41b776a1c361   \n",
      "2578  5be3e100-d207-4892-8dea-ccb13fb20f60   \n",
      "1070  7226652e-770a-41b4-9c9c-bfc8f449e64b   \n",
      "3708  eafa0193-c5c2-478d-9c95-92dd068a129b   \n",
      "1855  6fbf7ff0-ac61-40da-ab07-7d98c53aedc5   \n",
      "3359  d324243a-b4ac-42f4-b6e5-a60b627b0c54   \n",
      "159   cb2ec6eb-17b6-4778-b1d6-79e74cf438df   \n",
      "3861  ab42d0f8-26dc-4149-8a7f-165bb21b77f2   \n",
      "1696  87017712-4466-44cc-84f5-c8e5f4470f88   \n",
      "1313  15a6449e-394e-4a70-936b-3fcc68ca8a64   \n",
      "2966  9af8277b-db34-4841-922d-aa5a4c90e10a   \n",
      "3538  af720623-fc3b-4802-a441-0e512c578f63   \n",
      "553   eccc0d1b-a85a-4031-a26d-558c113d12f5   \n",
      "2894  953be510-27c8-4eaf-94df-3b7afb38983e   \n",
      "2879  c4842da2-8cdf-4154-b9e8-e12dfd8ac5ab   \n",
      "1982  50a7e69e-a41f-4d9c-ac07-56ff927fdae9   \n",
      "3198  235cd29c-27f0-4976-87ec-ff103c0144fa   \n",
      "559   ae14e258-aff1-4d08-aa0f-a3cf0f4a0bd7   \n",
      "1310  ff985749-7050-48ed-81d6-2ade53f75906   \n",
      "1303  6e341123-9359-4ede-97e3-6a154b86f02a   \n",
      "2728  5e96dfde-faed-48ed-930b-07d5c918f087   \n",
      "316   53e5ffc9-740e-48b9-b163-0c8163df74b9   \n",
      "2017  861fa7f4-40fd-4db1-bf5b-e0c96619861a   \n",
      "3138  055c846a-c865-4859-b956-1e142bfc684c   \n",
      "3390  c78ffeb0-dfe0-47cb-826e-a4108a3a9369   \n",
      "1118  20fa2b89-7d34-4133-8467-71a13ee07114   \n",
      "3572  98cb0b53-ef71-455f-bc2f-0c7cb3975931   \n",
      "2482  65d5dbdd-4737-41e2-913a-34d0fe22ed60   \n",
      "643   38fb675c-4385-4581-ac1e-ebe7a360ed58   \n",
      "299   d6dad6cb-7aa7-488a-86c7-97fe4d388ad0   \n",
      "\n",
      "                                          song_played          time_played  \\\n",
      "2230                                    Come Together  2015-06-23 15:40:13   \n",
      "668                                     Eleanor Rigby  2015-06-12 21:39:13   \n",
      "3616                                       OH DARLING  2015-06-18 09:21:01   \n",
      "2363                                    Eleanor Rigby  2015-06-15 14:58:16   \n",
      "142                                     Come Together  2015-06-15 10:01:40   \n",
      "538   Sgt. Pepper's Lonely Hearts Club Band (Reprise)  2015-06-24 13:40:48   \n",
      "1791                                  Golden Slumbers  2015-06-12 12:57:03   \n",
      "410                                        Revolution  2015-06-15 15:13:22   \n",
      "1150                                A Day In The Life  2015-06-10 22:23:16   \n",
      "1032                                    Come Together  2015-06-22 18:49:22   \n",
      "2178                                    Eleanor Rigby  2015-06-01 17:28:21   \n",
      "224                                 Can't Buy Me Love  2015-06-07 23:16:13   \n",
      "2800                                    Come Together  2015-06-01 22:37:24   \n",
      "2281                                        Let It Be  2015-06-01 06:14:45   \n",
      "3310                                       Revolution  2015-06-25 06:37:26   \n",
      "1746                     While My Guitar Gently Weeps  2015-06-11 06:27:01   \n",
      "2858                             Back In the U.S.S.R.  2015-06-21 13:06:39   \n",
      "2406                               Here Comes The Sun  2015-06-12 09:45:54   \n",
      "3659                                       Revolution  2015-06-04 16:26:31   \n",
      "3027                        The Long And Winding Road  2015-06-06 19:23:58   \n",
      "3463                                A Day In The Life  2015-06-28 22:54:54   \n",
      "1371                                         Hey Jude  2015-06-05 14:39:30   \n",
      "965                                 Can't Buy Me Love  2015-06-09 13:38:15   \n",
      "1015                                       Revolution  2015-06-08 14:20:09   \n",
      "910                               I'll Follow The Sun  2015-06-27 18:21:40   \n",
      "543                                         Something  2015-06-03 20:21:59   \n",
      "3194                                         Birthday  2015-06-12 19:07:27   \n",
      "2288                                        Let It Be  2015-06-13 14:49:41   \n",
      "3676                            I've Just Seen A Face  2015-06-01 16:14:13   \n",
      "3770                     You Never Give Me Your Money  2015-06-17 18:02:56   \n",
      "...                                               ...                  ...   \n",
      "648                                    Wild Honey Pie  2015-06-04 08:33:53   \n",
      "2578                     While My Guitar Gently Weeps  2015-06-17 14:38:59   \n",
      "1070                               Here Comes The Sun  2015-06-25 14:51:37   \n",
      "3708                    Lucy In The Sky With Diamonds  2015-06-28 18:07:10   \n",
      "1855                                     Drive My Car  2015-06-22 14:19:29   \n",
      "3359                                Can't Buy Me Love  2015-06-19 15:20:26   \n",
      "159                              Back In the U.S.S.R.  2015-06-18 18:28:50   \n",
      "3861                                         Hey Jude  2015-06-11 23:28:44   \n",
      "1696                     While My Guitar Gently Weeps  2015-06-21 02:27:38   \n",
      "1313                                         Birthday  2015-06-11 23:32:38   \n",
      "2966                                         Get Back  2015-06-14 14:47:55   \n",
      "3538                                         The Word  2015-06-15 14:25:16   \n",
      "553                                        Revolution  2015-06-02 21:58:52   \n",
      "2894                                         Get Back  2015-06-07 16:41:44   \n",
      "2879                                        Blackbird  2015-06-25 14:51:11   \n",
      "1982                                            Help!  2015-06-15 16:53:10   \n",
      "3198                                        Let It Be  2015-06-06 14:11:22   \n",
      "559                                         Let It Be  2015-06-28 11:07:01   \n",
      "1310                               Ob-la-di, Ob-la-da  2015-06-14 12:12:26   \n",
      "1303                                         Hey Jude  2015-06-14 12:17:33   \n",
      "2728                                        Let It Be  2015-06-26 20:16:00   \n",
      "316                                     Come Together  2015-06-04 13:22:10   \n",
      "2017                                    Eleanor Rigby  2015-06-25 18:54:13   \n",
      "3138                                         Birthday  2015-06-07 04:37:14   \n",
      "3390                                         Hey Jude  2015-06-15 20:10:07   \n",
      "1118                                         Sun King  2015-06-23 15:32:23   \n",
      "3572               With a Little Help From My Friends  2015-06-25 05:35:20   \n",
      "2482                    Lucy In The Sky With Diamonds  2015-06-04 20:19:36   \n",
      "643             Sgt. Pepper's Lonely Hearts Club Band  2015-06-22 09:51:23   \n",
      "299                                     Come Together  2015-06-14 14:18:09   \n",
      "\n",
      "      user_id user_sign_up_date      user_state  listen_count  \n",
      "2230       22        2015-05-02        New York             1  \n",
      "668       104        2015-05-12           Texas             2  \n",
      "3616      121        2015-05-16      California             1  \n",
      "2363       75        2015-05-08           Texas             1  \n",
      "142       112        2015-05-14      California             2  \n",
      "538        88        2015-05-10      California             2  \n",
      "1791       88        2015-05-10      California             1  \n",
      "410        20        2015-05-02         Georgia             1  \n",
      "1150       38        2015-05-04  North Carolina             2  \n",
      "1032      123        2015-05-16           Texas             1  \n",
      "2178       56        2015-05-07   Massachusetts             1  \n",
      "224       143        2015-05-17      New Jersey             1  \n",
      "2800        6        2015-05-01      New Jersey             1  \n",
      "2281      163        2015-05-19        New York             1  \n",
      "3310       47        2015-05-06        New York             1  \n",
      "1746       42        2015-05-04        New York             1  \n",
      "2858        6        2015-05-01      New Jersey             1  \n",
      "2406      150        2015-05-18          Oregon             2  \n",
      "3659      140        2015-05-17        New York             1  \n",
      "3027      127        2015-05-16     Connecticut             1  \n",
      "3463      150        2015-05-18          Oregon             2  \n",
      "1371       98        2015-05-12     Mississippi             2  \n",
      "965       127        2015-05-16     Connecticut             1  \n",
      "1015       81        2015-05-09        Maryland             1  \n",
      "910       110        2015-05-14      California             1  \n",
      "543        58        2015-05-07        Maryland             1  \n",
      "3194      126        2015-05-16        Illinois             1  \n",
      "2288       77        2015-05-08        New York             1  \n",
      "3676      185        2015-05-20        New York             1  \n",
      "3770      159        2015-05-19      California             1  \n",
      "...       ...               ...             ...           ...  \n",
      "648        99        2015-05-12        Illinois             1  \n",
      "2578       17        2015-05-02           Texas             1  \n",
      "1070      147        2015-05-18           Texas             1  \n",
      "3708      126        2015-05-16        Illinois             1  \n",
      "1855       85        2015-05-09        Missouri             1  \n",
      "3359       57        2015-05-07    Pennsylvania             1  \n",
      "159        42        2015-05-04        New York             2  \n",
      "3861       67        2015-05-08        New York             1  \n",
      "1696      193        2015-05-20       Louisiana             2  \n",
      "1313       89        2015-05-10         Alabama             1  \n",
      "2966       31        2015-05-04        Michigan             3  \n",
      "3538      176        2015-05-19        Missouri             1  \n",
      "553       184        2015-05-20       Wisconsin             2  \n",
      "2894       54        2015-05-07            Ohio             3  \n",
      "2879      158        2015-05-19  North Carolina             1  \n",
      "1982        5        2015-05-01         Alabama             1  \n",
      "3198      188        2015-05-20        New York             3  \n",
      "559        89        2015-05-10         Alabama             1  \n",
      "1310       99        2015-05-12        Illinois             2  \n",
      "1303       25        2015-05-02            Ohio             1  \n",
      "2728      185        2015-05-20        New York             1  \n",
      "316        70        2015-05-08       Tennessee             2  \n",
      "2017      155        2015-05-19           Texas             1  \n",
      "3138       94        2015-05-11  South Carolina             1  \n",
      "3390       72        2015-05-08      California             1  \n",
      "1118       81        2015-05-09        Maryland             1  \n",
      "3572       13        2015-05-02        Michigan             1  \n",
      "2482       49        2015-05-06            Ohio             1  \n",
      "643       180        2015-05-20       Louisiana             1  \n",
      "299        47        2015-05-06        New York             1  \n",
      "\n",
      "[800 rows x 7 columns]\n"
     ]
    },
    {
     "name": "stderr",
     "output_type": "stream",
     "text": [
      "C:\\Users\\LINN0\\Anaconda2\\lib\\site-packages\\ipykernel\\__main__.py:1: SettingWithCopyWarning: \n",
      "A value is trying to be set on a copy of a slice from a DataFrame.\n",
      "Try using .loc[row_indexer,col_indexer] = value instead\n",
      "\n",
      "See the caveats in the documentation: http://pandas.pydata.org/pandas-docs/stable/indexing.html#indexing-view-versus-copy\n",
      "  if __name__ == '__main__':\n",
      "C:\\Users\\LINN0\\Anaconda2\\lib\\site-packages\\ipykernel\\__main__.py:3: SettingWithCopyWarning: \n",
      "A value is trying to be set on a copy of a slice from a DataFrame.\n",
      "Try using .loc[row_indexer,col_indexer] = value instead\n",
      "\n",
      "See the caveats in the documentation: http://pandas.pydata.org/pandas-docs/stable/indexing.html#indexing-view-versus-copy\n",
      "  app.launch_new_instance()\n"
     ]
    }
   ],
   "source": [
    "train_data['listen_count'] = train_data.groupby(['song_played', 'user_id'])['id'].transform('count')\n",
    "\n",
    "test_data['listen_count'] = test_data.groupby(['song_played', 'user_id'])['id'].transform('count')"
   ]
  },
  {
   "cell_type": "markdown",
   "metadata": {},
   "source": [
    "#### Import GraphLab and convert datasets into SFrame"
   ]
  },
  {
   "cell_type": "code",
   "execution_count": 22,
   "metadata": {
    "collapsed": false
   },
   "outputs": [],
   "source": [
    "import graphlab\n",
    "train_data_frame = graphlab.SFrame(train_data)\n",
    "test_data_frame = graphlab.SFrame(test_data)"
   ]
  },
  {
   "cell_type": "markdown",
   "metadata": {},
   "source": [
    "#### We will train four different models and compare the performance to find the most suitable model.\n",
    "##### First Model: Popularity-Based Recommender"
   ]
  },
  {
   "cell_type": "code",
   "execution_count": 30,
   "metadata": {
    "collapsed": true
   },
   "outputs": [
    {
     "data": {
      "text/html": [
       "<pre>Recsys training: model = popularity</pre>"
      ],
      "text/plain": [
       "Recsys training: model = popularity"
      ]
     },
     "metadata": {},
     "output_type": "display_data"
    },
    {
     "data": {
      "text/html": [
       "<pre>Warning: Ignoring columns id, time_played, user_sign_up_date, user_state;</pre>"
      ],
      "text/plain": [
       "Warning: Ignoring columns id, time_played, user_sign_up_date, user_state;"
      ]
     },
     "metadata": {},
     "output_type": "display_data"
    },
    {
     "data": {
      "text/html": [
       "<pre>    To use these columns in scoring predictions, use a model that allows the use of additional features.</pre>"
      ],
      "text/plain": [
       "    To use these columns in scoring predictions, use a model that allows the use of additional features."
      ]
     },
     "metadata": {},
     "output_type": "display_data"
    },
    {
     "data": {
      "text/html": [
       "<pre>Preparing data set.</pre>"
      ],
      "text/plain": [
       "Preparing data set."
      ]
     },
     "metadata": {},
     "output_type": "display_data"
    },
    {
     "data": {
      "text/html": [
       "<pre>    Data has 3200 observations with 194 users and 100 items.</pre>"
      ],
      "text/plain": [
       "    Data has 3200 observations with 194 users and 100 items."
      ]
     },
     "metadata": {},
     "output_type": "display_data"
    },
    {
     "data": {
      "text/html": [
       "<pre>    Data prepared in: 0.014961s</pre>"
      ],
      "text/plain": [
       "    Data prepared in: 0.014961s"
      ]
     },
     "metadata": {},
     "output_type": "display_data"
    },
    {
     "data": {
      "text/html": [
       "<pre>3200 observations to process; with 100 unique items.</pre>"
      ],
      "text/plain": [
       "3200 observations to process; with 100 unique items."
      ]
     },
     "metadata": {},
     "output_type": "display_data"
    },
    {
     "name": "stdout",
     "output_type": "stream",
     "text": [
      "+---------+------------------------------+---------------+------+\n",
      "| user_id |         song_played          |     score     | rank |\n",
      "+---------+------------------------------+---------------+------+\n",
      "|    1    |        Come Together         | 3.09580838323 |  1   |\n",
      "|    2    |        Come Together         | 3.09580838323 |  1   |\n",
      "|    3    |        Come Together         | 3.09580838323 |  1   |\n",
      "|    4    |        Come Together         | 3.09580838323 |  1   |\n",
      "|    5    |           Get Back           | 2.36363636364 |  1   |\n",
      "|    6    |          Let It Be           | 1.89473684211 |  1   |\n",
      "|    7    |          Revolution          | 2.78461538462 |  1   |\n",
      "|    8    |        Come Together         | 3.09580838323 |  1   |\n",
      "|    9    |           Get Back           | 2.36363636364 |  1   |\n",
      "|    10   | While My Guitar Gently Weeps | 1.92682926829 |  1   |\n",
      "|    11   |           Get Back           | 2.36363636364 |  1   |\n",
      "|    12   |        Come Together         | 3.09580838323 |  1   |\n",
      "|    13   |           Get Back           | 2.36363636364 |  1   |\n",
      "|    14   |          Let It Be           | 1.89473684211 |  1   |\n",
      "|    15   |          Revolution          | 2.78461538462 |  1   |\n",
      "|    16   |          Revolution          | 2.78461538462 |  1   |\n",
      "|    17   |           Get Back           | 2.36363636364 |  1   |\n",
      "|    18   |          Revolution          | 2.78461538462 |  1   |\n",
      "|    19   |          Revolution          | 2.78461538462 |  1   |\n",
      "|    20   |          Something           | 1.66666666667 |  1   |\n",
      "+---------+------------------------------+---------------+------+\n",
      "[20 rows x 4 columns]\n",
      "\n"
     ]
    }
   ],
   "source": [
    "popularity_model = graphlab.popularity_recommender.create( \\\n",
    "                                                          train_data_frame, \\\n",
    "                                                          user_id='user_id', \\\n",
    "                                                          item_id='song_played', \\\n",
    "                                                          target='listen_count')\n",
    "# Get recommendation for first 20 users\n",
    "# users = range(1,11) specifies user ID of first 10 users\n",
    "# k=1 specifies top 1 recommendation to be given\n",
    "popularity_recomm = popularity_model.recommend(users=range(1,21), k=1)\n",
    "popularity_recomm.print_rows(num_rows=20)"
   ]
  },
  {
   "cell_type": "markdown",
   "metadata": {},
   "source": [
    "##### Second Model: Item Similarity Recommender (Jaccard Similarity)"
   ]
  },
  {
   "cell_type": "code",
   "execution_count": 36,
   "metadata": {
    "collapsed": false
   },
   "outputs": [
    {
     "data": {
      "text/html": [
       "<pre>Recsys training: model = item_similarity</pre>"
      ],
      "text/plain": [
       "Recsys training: model = item_similarity"
      ]
     },
     "metadata": {},
     "output_type": "display_data"
    },
    {
     "data": {
      "text/html": [
       "<pre>Warning: Ignoring columns id, time_played, user_sign_up_date, user_state;</pre>"
      ],
      "text/plain": [
       "Warning: Ignoring columns id, time_played, user_sign_up_date, user_state;"
      ]
     },
     "metadata": {},
     "output_type": "display_data"
    },
    {
     "data": {
      "text/html": [
       "<pre>    To use these columns in scoring predictions, use a model that allows the use of additional features.</pre>"
      ],
      "text/plain": [
       "    To use these columns in scoring predictions, use a model that allows the use of additional features."
      ]
     },
     "metadata": {},
     "output_type": "display_data"
    },
    {
     "data": {
      "text/html": [
       "<pre>Preparing data set.</pre>"
      ],
      "text/plain": [
       "Preparing data set."
      ]
     },
     "metadata": {},
     "output_type": "display_data"
    },
    {
     "data": {
      "text/html": [
       "<pre>    Data has 3200 observations with 194 users and 100 items.</pre>"
      ],
      "text/plain": [
       "    Data has 3200 observations with 194 users and 100 items."
      ]
     },
     "metadata": {},
     "output_type": "display_data"
    },
    {
     "data": {
      "text/html": [
       "<pre>    Data prepared in: 0.010972s</pre>"
      ],
      "text/plain": [
       "    Data prepared in: 0.010972s"
      ]
     },
     "metadata": {},
     "output_type": "display_data"
    },
    {
     "data": {
      "text/html": [
       "<pre>Training model from provided data.</pre>"
      ],
      "text/plain": [
       "Training model from provided data."
      ]
     },
     "metadata": {},
     "output_type": "display_data"
    },
    {
     "data": {
      "text/html": [
       "<pre>Gathering per-item and per-user statistics.</pre>"
      ],
      "text/plain": [
       "Gathering per-item and per-user statistics."
      ]
     },
     "metadata": {},
     "output_type": "display_data"
    },
    {
     "data": {
      "text/html": [
       "<pre>+--------------------------------+------------+</pre>"
      ],
      "text/plain": [
       "+--------------------------------+------------+"
      ]
     },
     "metadata": {},
     "output_type": "display_data"
    },
    {
     "data": {
      "text/html": [
       "<pre>| Elapsed Time (Item Statistics) | % Complete |</pre>"
      ],
      "text/plain": [
       "| Elapsed Time (Item Statistics) | % Complete |"
      ]
     },
     "metadata": {},
     "output_type": "display_data"
    },
    {
     "data": {
      "text/html": [
       "<pre>+--------------------------------+------------+</pre>"
      ],
      "text/plain": [
       "+--------------------------------+------------+"
      ]
     },
     "metadata": {},
     "output_type": "display_data"
    },
    {
     "data": {
      "text/html": [
       "<pre>| 998us                          | 100        |</pre>"
      ],
      "text/plain": [
       "| 998us                          | 100        |"
      ]
     },
     "metadata": {},
     "output_type": "display_data"
    },
    {
     "data": {
      "text/html": [
       "<pre>+--------------------------------+------------+</pre>"
      ],
      "text/plain": [
       "+--------------------------------+------------+"
      ]
     },
     "metadata": {},
     "output_type": "display_data"
    },
    {
     "data": {
      "text/html": [
       "<pre>Setting up lookup tables.</pre>"
      ],
      "text/plain": [
       "Setting up lookup tables."
      ]
     },
     "metadata": {},
     "output_type": "display_data"
    },
    {
     "data": {
      "text/html": [
       "<pre>Processing data in one pass using dense lookup tables.</pre>"
      ],
      "text/plain": [
       "Processing data in one pass using dense lookup tables."
      ]
     },
     "metadata": {},
     "output_type": "display_data"
    },
    {
     "data": {
      "text/html": [
       "<pre>+-------------------------------------+------------------+-----------------+</pre>"
      ],
      "text/plain": [
       "+-------------------------------------+------------------+-----------------+"
      ]
     },
     "metadata": {},
     "output_type": "display_data"
    },
    {
     "data": {
      "text/html": [
       "<pre>| Elapsed Time (Constructing Lookups) | Total % Complete | Items Processed |</pre>"
      ],
      "text/plain": [
       "| Elapsed Time (Constructing Lookups) | Total % Complete | Items Processed |"
      ]
     },
     "metadata": {},
     "output_type": "display_data"
    },
    {
     "data": {
      "text/html": [
       "<pre>+-------------------------------------+------------------+-----------------+</pre>"
      ],
      "text/plain": [
       "+-------------------------------------+------------------+-----------------+"
      ]
     },
     "metadata": {},
     "output_type": "display_data"
    },
    {
     "data": {
      "text/html": [
       "<pre>| 998us                               | 1.25             | 1               |</pre>"
      ],
      "text/plain": [
       "| 998us                               | 1.25             | 1               |"
      ]
     },
     "metadata": {},
     "output_type": "display_data"
    },
    {
     "data": {
      "text/html": [
       "<pre>| 1.994ms                             | 100              | 100             |</pre>"
      ],
      "text/plain": [
       "| 1.994ms                             | 100              | 100             |"
      ]
     },
     "metadata": {},
     "output_type": "display_data"
    },
    {
     "data": {
      "text/html": [
       "<pre>+-------------------------------------+------------------+-----------------+</pre>"
      ],
      "text/plain": [
       "+-------------------------------------+------------------+-----------------+"
      ]
     },
     "metadata": {},
     "output_type": "display_data"
    },
    {
     "data": {
      "text/html": [
       "<pre>Finalizing lookup tables.</pre>"
      ],
      "text/plain": [
       "Finalizing lookup tables."
      ]
     },
     "metadata": {},
     "output_type": "display_data"
    },
    {
     "data": {
      "text/html": [
       "<pre>Generating candidate set for working with new users.</pre>"
      ],
      "text/plain": [
       "Generating candidate set for working with new users."
      ]
     },
     "metadata": {},
     "output_type": "display_data"
    },
    {
     "data": {
      "text/html": [
       "<pre>Finished training in 0.003992s</pre>"
      ],
      "text/plain": [
       "Finished training in 0.003992s"
      ]
     },
     "metadata": {},
     "output_type": "display_data"
    },
    {
     "name": "stdout",
     "output_type": "stream",
     "text": [
      "+---------+--------------------+----------------+------+\n",
      "| user_id |    song_played     |     score      | rank |\n",
      "+---------+--------------------+----------------+------+\n",
      "|    1    |      Get Back      | 0.248813403977 |  1   |\n",
      "|    2    |   Come Together    | 0.261296873743 |  1   |\n",
      "|    3    |   Come Together    | 0.359643735669 |  1   |\n",
      "|    4    |   Come Together    | 0.317465031147 |  1   |\n",
      "|    5    |      Get Back      | 0.28043786379  |  1   |\n",
      "|    6    |     Let It Be      | 0.272087139743 |  1   |\n",
      "|    7    |     Revolution     | 0.276404476166 |  1   |\n",
      "|    8    |     Let It Be      | 0.221303939819 |  1   |\n",
      "|    9    |      Get Back      | 0.280275543531 |  1   |\n",
      "|    10   |     Let It Be      | 0.301460100545 |  1   |\n",
      "|    11   |      Get Back      | 0.297021073954 |  1   |\n",
      "|    12   |     Revolution     | 0.308446205579 |  1   |\n",
      "|    13   |      Get Back      | 0.270327737698 |  1   |\n",
      "|    14   |     Let It Be      | 0.221310771647 |  1   |\n",
      "|    15   |     Revolution     | 0.381024909019 |  1   |\n",
      "|    16   |     Revolution     | 0.271564026674 |  1   |\n",
      "|    17   |      Get Back      | 0.293474472486 |  1   |\n",
      "|    18   |      Get Back      | 0.228966687407 |  1   |\n",
      "|    19   |     Revolution     | 0.34554810077  |  1   |\n",
      "|    20   | Here Comes The Sun | 0.198270256105 |  1   |\n",
      "+---------+--------------------+----------------+------+\n",
      "[20 rows x 4 columns]\n",
      "\n"
     ]
    }
   ],
   "source": [
    "jaccard_sim_model = graphlab.item_similarity_recommender.create( \\\n",
    "                                                             train_data_frame, \\\n",
    "                                                             user_id='user_id', \\\n",
    "                                                             item_id='song_played', \\\n",
    "                                                             target='listen_count', \\\n",
    "                                                             similarity_type='jaccard')\n",
    "\n",
    "# Get recommendation for first 20 users\n",
    "jaccard_sim_recomm = jaccard_sim_model.recommend(users=range(1,21), k=1)\n",
    "jaccard_sim_recomm.print_rows(num_rows=20)"
   ]
  },
  {
   "cell_type": "markdown",
   "metadata": {},
   "source": [
    "##### Third Model: Item Similarity Recommender (Cosine Similarity)"
   ]
  },
  {
   "cell_type": "code",
   "execution_count": 32,
   "metadata": {
    "collapsed": true
   },
   "outputs": [
    {
     "data": {
      "text/html": [
       "<pre>Recsys training: model = item_similarity</pre>"
      ],
      "text/plain": [
       "Recsys training: model = item_similarity"
      ]
     },
     "metadata": {},
     "output_type": "display_data"
    },
    {
     "data": {
      "text/html": [
       "<pre>Warning: Ignoring columns id, time_played, user_sign_up_date, user_state;</pre>"
      ],
      "text/plain": [
       "Warning: Ignoring columns id, time_played, user_sign_up_date, user_state;"
      ]
     },
     "metadata": {},
     "output_type": "display_data"
    },
    {
     "data": {
      "text/html": [
       "<pre>    To use these columns in scoring predictions, use a model that allows the use of additional features.</pre>"
      ],
      "text/plain": [
       "    To use these columns in scoring predictions, use a model that allows the use of additional features."
      ]
     },
     "metadata": {},
     "output_type": "display_data"
    },
    {
     "data": {
      "text/html": [
       "<pre>Preparing data set.</pre>"
      ],
      "text/plain": [
       "Preparing data set."
      ]
     },
     "metadata": {},
     "output_type": "display_data"
    },
    {
     "data": {
      "text/html": [
       "<pre>    Data has 3200 observations with 194 users and 100 items.</pre>"
      ],
      "text/plain": [
       "    Data has 3200 observations with 194 users and 100 items."
      ]
     },
     "metadata": {},
     "output_type": "display_data"
    },
    {
     "data": {
      "text/html": [
       "<pre>    Data prepared in: 0.012987s</pre>"
      ],
      "text/plain": [
       "    Data prepared in: 0.012987s"
      ]
     },
     "metadata": {},
     "output_type": "display_data"
    },
    {
     "data": {
      "text/html": [
       "<pre>Training model from provided data.</pre>"
      ],
      "text/plain": [
       "Training model from provided data."
      ]
     },
     "metadata": {},
     "output_type": "display_data"
    },
    {
     "data": {
      "text/html": [
       "<pre>Gathering per-item and per-user statistics.</pre>"
      ],
      "text/plain": [
       "Gathering per-item and per-user statistics."
      ]
     },
     "metadata": {},
     "output_type": "display_data"
    },
    {
     "data": {
      "text/html": [
       "<pre>+--------------------------------+------------+</pre>"
      ],
      "text/plain": [
       "+--------------------------------+------------+"
      ]
     },
     "metadata": {},
     "output_type": "display_data"
    },
    {
     "data": {
      "text/html": [
       "<pre>| Elapsed Time (Item Statistics) | % Complete |</pre>"
      ],
      "text/plain": [
       "| Elapsed Time (Item Statistics) | % Complete |"
      ]
     },
     "metadata": {},
     "output_type": "display_data"
    },
    {
     "data": {
      "text/html": [
       "<pre>+--------------------------------+------------+</pre>"
      ],
      "text/plain": [
       "+--------------------------------+------------+"
      ]
     },
     "metadata": {},
     "output_type": "display_data"
    },
    {
     "data": {
      "text/html": [
       "<pre>| 0us                            | 100        |</pre>"
      ],
      "text/plain": [
       "| 0us                            | 100        |"
      ]
     },
     "metadata": {},
     "output_type": "display_data"
    },
    {
     "data": {
      "text/html": [
       "<pre>+--------------------------------+------------+</pre>"
      ],
      "text/plain": [
       "+--------------------------------+------------+"
      ]
     },
     "metadata": {},
     "output_type": "display_data"
    },
    {
     "data": {
      "text/html": [
       "<pre>Setting up lookup tables.</pre>"
      ],
      "text/plain": [
       "Setting up lookup tables."
      ]
     },
     "metadata": {},
     "output_type": "display_data"
    },
    {
     "data": {
      "text/html": [
       "<pre>Processing data in one pass using dense lookup tables.</pre>"
      ],
      "text/plain": [
       "Processing data in one pass using dense lookup tables."
      ]
     },
     "metadata": {},
     "output_type": "display_data"
    },
    {
     "data": {
      "text/html": [
       "<pre>+-------------------------------------+------------------+-----------------+</pre>"
      ],
      "text/plain": [
       "+-------------------------------------+------------------+-----------------+"
      ]
     },
     "metadata": {},
     "output_type": "display_data"
    },
    {
     "data": {
      "text/html": [
       "<pre>| Elapsed Time (Constructing Lookups) | Total % Complete | Items Processed |</pre>"
      ],
      "text/plain": [
       "| Elapsed Time (Constructing Lookups) | Total % Complete | Items Processed |"
      ]
     },
     "metadata": {},
     "output_type": "display_data"
    },
    {
     "data": {
      "text/html": [
       "<pre>+-------------------------------------+------------------+-----------------+</pre>"
      ],
      "text/plain": [
       "+-------------------------------------+------------------+-----------------+"
      ]
     },
     "metadata": {},
     "output_type": "display_data"
    },
    {
     "data": {
      "text/html": [
       "<pre>| 0us                                 | 1.25             | 1               |</pre>"
      ],
      "text/plain": [
       "| 0us                                 | 1.25             | 1               |"
      ]
     },
     "metadata": {},
     "output_type": "display_data"
    },
    {
     "data": {
      "text/html": [
       "<pre>| 998us                               | 100              | 100             |</pre>"
      ],
      "text/plain": [
       "| 998us                               | 100              | 100             |"
      ]
     },
     "metadata": {},
     "output_type": "display_data"
    },
    {
     "data": {
      "text/html": [
       "<pre>+-------------------------------------+------------------+-----------------+</pre>"
      ],
      "text/plain": [
       "+-------------------------------------+------------------+-----------------+"
      ]
     },
     "metadata": {},
     "output_type": "display_data"
    },
    {
     "data": {
      "text/html": [
       "<pre>Finalizing lookup tables.</pre>"
      ],
      "text/plain": [
       "Finalizing lookup tables."
      ]
     },
     "metadata": {},
     "output_type": "display_data"
    },
    {
     "data": {
      "text/html": [
       "<pre>Generating candidate set for working with new users.</pre>"
      ],
      "text/plain": [
       "Generating candidate set for working with new users."
      ]
     },
     "metadata": {},
     "output_type": "display_data"
    },
    {
     "data": {
      "text/html": [
       "<pre>Finished training in 0.001995s</pre>"
      ],
      "text/plain": [
       "Finished training in 0.001995s"
      ]
     },
     "metadata": {},
     "output_type": "display_data"
    },
    {
     "name": "stdout",
     "output_type": "stream",
     "text": [
      "+---------+----------------------+----------------+------+\n",
      "| user_id |     song_played      |     score      | rank |\n",
      "+---------+----------------------+----------------+------+\n",
      "|    1    |      Revolution      | 0.369857119189 |  1   |\n",
      "|    2    |    Come Together     | 0.494362419302 |  1   |\n",
      "|    3    |    Come Together     | 0.61836641485  |  1   |\n",
      "|    4    |    Come Together     | 0.724982047081 |  1   |\n",
      "|    5    |       Get Back       | 0.448609095353 |  1   |\n",
      "|    6    |      Let It Be       | 0.520519805806 |  1   |\n",
      "|    7    |      Revolution      | 0.438611334562 |  1   |\n",
      "|    8    |      Let It Be       | 0.362560123205 |  1   |\n",
      "|    9    |       Get Back       | 0.386122693618 |  1   |\n",
      "|    10   |  A Day In The Life   | 0.583259595765 |  1   |\n",
      "|    11   |       Get Back       | 0.514566574778 |  1   |\n",
      "|    12   |      Revolution      | 0.543208851264 |  1   |\n",
      "|    13   |       Get Back       |  0.5460461103  |  1   |\n",
      "|    14   | Back In the U.S.S.R. | 0.371289798192 |  1   |\n",
      "|    15   |      Revolution      | 0.810294246674 |  1   |\n",
      "|    16   |      Revolution      | 0.706925488654 |  1   |\n",
      "|    17   |       Get Back       | 0.533702978721 |  1   |\n",
      "|    18   |       Get Back       | 0.602995940617 |  1   |\n",
      "|    19   |      Revolution      | 0.676525875926 |  1   |\n",
      "|    20   |  Here Comes The Sun  | 0.454009543294 |  1   |\n",
      "+---------+----------------------+----------------+------+\n",
      "[20 rows x 4 columns]\n",
      "\n"
     ]
    }
   ],
   "source": [
    "cosine_sim_model = graphlab.item_similarity_recommender.create( \\\n",
    "                                                             train_data_frame, \\\n",
    "                                                             user_id='user_id', \\\n",
    "                                                             item_id='song_played', \\\n",
    "                                                             target='listen_count', \\\n",
    "                                                             similarity_type='cosine')\n",
    "\n",
    "# Get recommendation for first 20 users\n",
    "cosine_sim_recomm = cosine_sim_model.recommend(users=range(1,21), k=1)\n",
    "cosine_sim_recomm.print_rows(num_rows=20)"
   ]
  },
  {
   "cell_type": "markdown",
   "metadata": {},
   "source": [
    "##### Fourth Model: Item Similarity Recommender (Pearson Similarity)"
   ]
  },
  {
   "cell_type": "code",
   "execution_count": 33,
   "metadata": {
    "collapsed": true
   },
   "outputs": [
    {
     "data": {
      "text/html": [
       "<pre>Recsys training: model = item_similarity</pre>"
      ],
      "text/plain": [
       "Recsys training: model = item_similarity"
      ]
     },
     "metadata": {},
     "output_type": "display_data"
    },
    {
     "data": {
      "text/html": [
       "<pre>Warning: Ignoring columns id, time_played, user_sign_up_date, user_state;</pre>"
      ],
      "text/plain": [
       "Warning: Ignoring columns id, time_played, user_sign_up_date, user_state;"
      ]
     },
     "metadata": {},
     "output_type": "display_data"
    },
    {
     "data": {
      "text/html": [
       "<pre>    To use these columns in scoring predictions, use a model that allows the use of additional features.</pre>"
      ],
      "text/plain": [
       "    To use these columns in scoring predictions, use a model that allows the use of additional features."
      ]
     },
     "metadata": {},
     "output_type": "display_data"
    },
    {
     "data": {
      "text/html": [
       "<pre>Preparing data set.</pre>"
      ],
      "text/plain": [
       "Preparing data set."
      ]
     },
     "metadata": {},
     "output_type": "display_data"
    },
    {
     "data": {
      "text/html": [
       "<pre>    Data has 3200 observations with 194 users and 100 items.</pre>"
      ],
      "text/plain": [
       "    Data has 3200 observations with 194 users and 100 items."
      ]
     },
     "metadata": {},
     "output_type": "display_data"
    },
    {
     "data": {
      "text/html": [
       "<pre>    Data prepared in: 0.009972s</pre>"
      ],
      "text/plain": [
       "    Data prepared in: 0.009972s"
      ]
     },
     "metadata": {},
     "output_type": "display_data"
    },
    {
     "data": {
      "text/html": [
       "<pre>Training model from provided data.</pre>"
      ],
      "text/plain": [
       "Training model from provided data."
      ]
     },
     "metadata": {},
     "output_type": "display_data"
    },
    {
     "data": {
      "text/html": [
       "<pre>Gathering per-item and per-user statistics.</pre>"
      ],
      "text/plain": [
       "Gathering per-item and per-user statistics."
      ]
     },
     "metadata": {},
     "output_type": "display_data"
    },
    {
     "data": {
      "text/html": [
       "<pre>+--------------------------------+------------+</pre>"
      ],
      "text/plain": [
       "+--------------------------------+------------+"
      ]
     },
     "metadata": {},
     "output_type": "display_data"
    },
    {
     "data": {
      "text/html": [
       "<pre>| Elapsed Time (Item Statistics) | % Complete |</pre>"
      ],
      "text/plain": [
       "| Elapsed Time (Item Statistics) | % Complete |"
      ]
     },
     "metadata": {},
     "output_type": "display_data"
    },
    {
     "data": {
      "text/html": [
       "<pre>+--------------------------------+------------+</pre>"
      ],
      "text/plain": [
       "+--------------------------------+------------+"
      ]
     },
     "metadata": {},
     "output_type": "display_data"
    },
    {
     "data": {
      "text/html": [
       "<pre>| 0us                            | 100        |</pre>"
      ],
      "text/plain": [
       "| 0us                            | 100        |"
      ]
     },
     "metadata": {},
     "output_type": "display_data"
    },
    {
     "data": {
      "text/html": [
       "<pre>+--------------------------------+------------+</pre>"
      ],
      "text/plain": [
       "+--------------------------------+------------+"
      ]
     },
     "metadata": {},
     "output_type": "display_data"
    },
    {
     "data": {
      "text/html": [
       "<pre>Setting up lookup tables.</pre>"
      ],
      "text/plain": [
       "Setting up lookup tables."
      ]
     },
     "metadata": {},
     "output_type": "display_data"
    },
    {
     "data": {
      "text/html": [
       "<pre>Processing data in one pass using dense lookup tables.</pre>"
      ],
      "text/plain": [
       "Processing data in one pass using dense lookup tables."
      ]
     },
     "metadata": {},
     "output_type": "display_data"
    },
    {
     "data": {
      "text/html": [
       "<pre>+-------------------------------------+------------------+-----------------+</pre>"
      ],
      "text/plain": [
       "+-------------------------------------+------------------+-----------------+"
      ]
     },
     "metadata": {},
     "output_type": "display_data"
    },
    {
     "data": {
      "text/html": [
       "<pre>| Elapsed Time (Constructing Lookups) | Total % Complete | Items Processed |</pre>"
      ],
      "text/plain": [
       "| Elapsed Time (Constructing Lookups) | Total % Complete | Items Processed |"
      ]
     },
     "metadata": {},
     "output_type": "display_data"
    },
    {
     "data": {
      "text/html": [
       "<pre>+-------------------------------------+------------------+-----------------+</pre>"
      ],
      "text/plain": [
       "+-------------------------------------+------------------+-----------------+"
      ]
     },
     "metadata": {},
     "output_type": "display_data"
    },
    {
     "data": {
      "text/html": [
       "<pre>| 0us                                 | 0                | 0               |</pre>"
      ],
      "text/plain": [
       "| 0us                                 | 0                | 0               |"
      ]
     },
     "metadata": {},
     "output_type": "display_data"
    },
    {
     "data": {
      "text/html": [
       "<pre>| 996us                               | 100              | 100             |</pre>"
      ],
      "text/plain": [
       "| 996us                               | 100              | 100             |"
      ]
     },
     "metadata": {},
     "output_type": "display_data"
    },
    {
     "data": {
      "text/html": [
       "<pre>+-------------------------------------+------------------+-----------------+</pre>"
      ],
      "text/plain": [
       "+-------------------------------------+------------------+-----------------+"
      ]
     },
     "metadata": {},
     "output_type": "display_data"
    },
    {
     "data": {
      "text/html": [
       "<pre>Finalizing lookup tables.</pre>"
      ],
      "text/plain": [
       "Finalizing lookup tables."
      ]
     },
     "metadata": {},
     "output_type": "display_data"
    },
    {
     "data": {
      "text/html": [
       "<pre>Generating candidate set for working with new users.</pre>"
      ],
      "text/plain": [
       "Generating candidate set for working with new users."
      ]
     },
     "metadata": {},
     "output_type": "display_data"
    },
    {
     "data": {
      "text/html": [
       "<pre>Finished training in 0.004988s</pre>"
      ],
      "text/plain": [
       "Finished training in 0.004988s"
      ]
     },
     "metadata": {},
     "output_type": "display_data"
    },
    {
     "name": "stdout",
     "output_type": "stream",
     "text": [
      "+---------+--------------------+---------------+------+\n",
      "| user_id |    song_played     |     score     | rank |\n",
      "+---------+--------------------+---------------+------+\n",
      "|    1    |   Come Together    | 2.28235045207 |  1   |\n",
      "|    2    |   Come Together    | 2.27964720683 |  1   |\n",
      "|    3    |   Come Together    | 2.26252701348 |  1   |\n",
      "|    4    |   Come Together    | 2.27792155212 |  1   |\n",
      "|    5    |      Get Back      | 1.73784096461 |  1   |\n",
      "|    6    |     Let It Be      | 1.56741483323 |  1   |\n",
      "|    7    |     Revolution     | 2.04372536322 |  1   |\n",
      "|    8    |   Come Together    | 2.28767123288 |  1   |\n",
      "|    9    |      Get Back      | 1.71057282845 |  1   |\n",
      "|    10   |     Let It Be      | 1.57444437277 |  1   |\n",
      "|    11   |      Get Back      | 1.72484993185 |  1   |\n",
      "|    12   |   Come Together    | 2.27746659216 |  1   |\n",
      "|    13   |      Get Back      | 1.77000340627 |  1   |\n",
      "|    14   |     Let It Be      | 1.56403525981 |  1   |\n",
      "|    15   |     Revolution     | 2.06378431699 |  1   |\n",
      "|    16   |     Revolution     | 2.09766886159 |  1   |\n",
      "|    17   |      Get Back      | 1.76375244251 |  1   |\n",
      "|    18   |     Revolution     | 2.08547316941 |  1   |\n",
      "|    19   |     Revolution     | 2.07953116676 |  1   |\n",
      "|    20   | Here Comes The Sun | 1.36155811226 |  1   |\n",
      "+---------+--------------------+---------------+------+\n",
      "[20 rows x 4 columns]\n",
      "\n"
     ]
    }
   ],
   "source": [
    "pearson_sim_model = graphlab.item_similarity_recommender.create( \\\n",
    "                                                             train_data_frame, \\\n",
    "                                                             user_id='user_id', \\\n",
    "                                                             item_id='song_played', \\\n",
    "                                                             target='listen_count', \\\n",
    "                                                             similarity_type='pearson')\n",
    "\n",
    "# Get recommendation for first 20 users\n",
    "pearson_sim_recomm = pearson_sim_model.recommend(users=range(1,21), k=1)\n",
    "pearson_sim_recomm.print_rows(num_rows=20)"
   ]
  },
  {
   "cell_type": "markdown",
   "metadata": {},
   "source": [
    "### 5.\tHow would you set up a test to check whether your model works well and is improving engagement?"
   ]
  },
  {
   "cell_type": "markdown",
   "metadata": {},
   "source": [
    "#### Compare the performance of all models using the testing data\n",
    "#### (A model with both higher recall and higher precision is preferred.)"
   ]
  },
  {
   "cell_type": "code",
   "execution_count": 34,
   "metadata": {
    "collapsed": true
   },
   "outputs": [
    {
     "name": "stdout",
     "output_type": "stream",
     "text": [
      "PROGRESS: Evaluate model M0\n",
      "\n",
      "Precision and recall summary statistics by cutoff\n",
      "+--------+----------------+-----------------+\n",
      "| cutoff | mean_precision |   mean_recall   |\n",
      "+--------+----------------+-----------------+\n",
      "|   1    | 0.201117318436 | 0.0487057325046 |\n",
      "|   2    | 0.184357541899 | 0.0906142429885 |\n",
      "|   3    | 0.173184357542 |  0.116696292534 |\n",
      "|   4    | 0.180167597765 |  0.171376373471 |\n",
      "|   5    | 0.156424581006 |  0.182738196006 |\n",
      "|   6    | 0.144320297952 |  0.201331551751 |\n",
      "|   7    | 0.135674381484 |  0.233631808911 |\n",
      "|   8    | 0.128491620112 |  0.249436100833 |\n",
      "|   9    | 0.119180633147 |  0.261159076802 |\n",
      "|   10   | 0.115083798883 |  0.284086273751 |\n",
      "+--------+----------------+-----------------+\n",
      "[10 rows x 3 columns]\n",
      "\n",
      "PROGRESS: Evaluate model M1\n",
      "\n",
      "Precision and recall summary statistics by cutoff\n",
      "+--------+----------------+-----------------+\n",
      "| cutoff | mean_precision |   mean_recall   |\n",
      "+--------+----------------+-----------------+\n",
      "|   1    | 0.195530726257 |  0.048949591687 |\n",
      "|   2    | 0.203910614525 | 0.0994709666497 |\n",
      "|   3    | 0.180633147114 |  0.13017948842  |\n",
      "|   4    | 0.173184357542 |  0.171398542488 |\n",
      "|   5    | 0.158659217877 |  0.196777632671 |\n",
      "|   6    | 0.151769087523 |  0.219569800156 |\n",
      "|   7    | 0.143655227454 |  0.244654042419 |\n",
      "|   8    | 0.135474860335 |  0.265575144905 |\n",
      "|   9    | 0.127250155183 |  0.278034132224 |\n",
      "|   10   | 0.120111731844 |  0.290912113957 |\n",
      "+--------+----------------+-----------------+\n",
      "[10 rows x 3 columns]\n",
      "\n",
      "PROGRESS: Evaluate model M2\n",
      "\n",
      "Precision and recall summary statistics by cutoff\n",
      "+--------+----------------+-----------------+\n",
      "| cutoff | mean_precision |   mean_recall   |\n",
      "+--------+----------------+-----------------+\n",
      "|   1    | 0.184357541899 | 0.0471250816223 |\n",
      "|   2    | 0.175977653631 | 0.0831235338219 |\n",
      "|   3    | 0.162011173184 |  0.110531089023 |\n",
      "|   4    | 0.16061452514  |  0.151342233186 |\n",
      "|   5    | 0.15530726257  |  0.181904439446 |\n",
      "|   6    | 0.145251396648 |  0.206636395882 |\n",
      "|   7    | 0.138866719872 |  0.234990769628 |\n",
      "|   8    | 0.130586592179 |  0.25457931268  |\n",
      "|   9    | 0.12104283054  |  0.264741589881 |\n",
      "|   10   | 0.112849162011 |  0.272305658339 |\n",
      "+--------+----------------+-----------------+\n",
      "[10 rows x 3 columns]\n",
      "\n",
      "PROGRESS: Evaluate model M3\n",
      "\n",
      "Precision and recall summary statistics by cutoff\n",
      "+--------+----------------+-----------------+\n",
      "| cutoff | mean_precision |   mean_recall   |\n",
      "+--------+----------------+-----------------+\n",
      "|   1    | 0.206703910615 | 0.0507541496368 |\n",
      "|   2    | 0.187150837989 | 0.0906341951035 |\n",
      "|   3    | 0.184357541899 |  0.131405435037 |\n",
      "|   4    | 0.171787709497 |  0.160547010407 |\n",
      "|   5    | 0.15530726257  |  0.179998105557 |\n",
      "|   6    | 0.143389199255 |  0.200400453054 |\n",
      "|   7    | 0.134078212291 |  0.224041492338 |\n",
      "|   8    | 0.126396648045 |  0.250708602385 |\n",
      "|   9    | 0.120422098076 |  0.276096560175 |\n",
      "|   10   | 0.113966480447 |  0.287345119189 |\n",
      "+--------+----------------+-----------------+\n",
      "[10 rows x 3 columns]\n",
      "\n",
      "Model compare metric: precision_recall\n",
      "Canvas is updated and available in a tab in the default browser.\n"
     ]
    }
   ],
   "source": [
    "model_performance = graphlab.compare(test_data_frame, [popularity_model,jaccard_sim_model,cosine_sim_model,pearson_sim_model])\n",
    "graphlab.show_comparison(model_performance,[popularity_model,jaccard_sim_model,cosine_sim_model,pearson_sim_model])"
   ]
  },
  {
   "cell_type": "markdown",
   "metadata": {},
   "source": [
    "#### As per comparison above, we find that Jaccard similarity model performs better than other models in this case."
   ]
  }
 ],
 "metadata": {
  "kernelspec": {
   "display_name": "Python 2",
   "language": "python",
   "name": "python2"
  },
  "language_info": {
   "codemirror_mode": {
    "name": "ipython",
    "version": 2
   },
   "file_extension": ".py",
   "mimetype": "text/x-python",
   "name": "python",
   "nbconvert_exporter": "python",
   "pygments_lexer": "ipython2",
   "version": "2.7.13"
  }
 },
 "nbformat": 4,
 "nbformat_minor": 2
}
